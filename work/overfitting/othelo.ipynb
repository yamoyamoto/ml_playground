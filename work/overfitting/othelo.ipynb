{
 "cells": [
  {
   "cell_type": "code",
   "execution_count": 25,
   "metadata": {},
   "outputs": [],
   "source": [
    "import pandas as pd\n",
    "import numpy as np\n",
    "import tqdm\n",
    "\n",
    "import matplotlib.pyplot as plt\n",
    "\n",
    "from sklearn.preprocessing import LabelEncoder\n",
    "from sklearn.neural_network import MLPClassifier\n",
    "\n",
    "from sklearn.model_selection import cross_val_score,KFold\n",
    "import warnings\n",
    "\n",
    "warnings.simplefilter('ignore')"
   ]
  },
  {
   "cell_type": "code",
   "execution_count": 26,
   "metadata": {},
   "outputs": [],
   "source": [
    "data = pd.read_csv(\"data.csv\")\n",
    "train_X = data.drop(\"target\", axis=1)\n",
    "\n",
    "target_encoder = LabelEncoder()\n",
    "train_Y = target_encoder.fit_transform(data[\"target\"])\n",
    "\n"
   ]
  },
  {
   "cell_type": "code",
   "execution_count": 49,
   "metadata": {},
   "outputs": [],
   "source": [
    "def exec_k_fold(num=100):\n",
    "  train_acc = []\n",
    "  valid_acc = []\n",
    "  for i in tqdm.tqdm(range(num)):\n",
    "    k_fold = KFold(n_splits=10, shuffle=True)\n",
    "    train_acc_sum = 0\n",
    "    valid_acc_sum = 0\n",
    "    for train_i, test_i in k_fold.split(train_X):\n",
    "      train_x, test_x = train_X.iloc[train_i], train_X.iloc[test_i]\n",
    "      train_y, test_y = train_Y[train_i], train_Y[test_i]\n",
    "      mlp_clf = MLPClassifier(hidden_layer_sizes=(3, 50), max_iter=2000).fit(train_x, train_y)\n",
    "      train_acc_sum += mlp_clf.score(train_x, train_y)\n",
    "      valid_acc_sum += mlp_clf.score(test_x, test_y)\n",
    "    train_acc.append(train_acc_sum / 10)\n",
    "    valid_acc.append(valid_acc_sum / 10)\n",
    "  \n",
    "  return train_acc, valid_acc"
   ]
  },
  {
   "cell_type": "code",
   "execution_count": 50,
   "metadata": {},
   "outputs": [
    {
     "name": "stderr",
     "output_type": "stream",
     "text": [
      "100%|██████████| 100/100 [02:31<00:00,  1.51s/it]\n"
     ]
    },
    {
     "data": {
      "text/plain": [
       "[0.7044444444444444,\n",
       " 0.7455555555555555,\n",
       " 0.6844444444444445,\n",
       " 0.7422222222222222,\n",
       " 0.7355555555555556,\n",
       " 0.7466666666666668,\n",
       " 0.6888888888888889,\n",
       " 0.7633333333333332,\n",
       " 0.7399999999999999,\n",
       " 0.711111111111111,\n",
       " 0.7066666666666667,\n",
       " 0.7677777777777777,\n",
       " 0.7166666666666666,\n",
       " 0.7255555555555554,\n",
       " 0.7255555555555555,\n",
       " 0.7344444444444445,\n",
       " 0.7344444444444443,\n",
       " 0.7100000000000001,\n",
       " 0.6788888888888889,\n",
       " 0.7044444444444445,\n",
       " 0.7433333333333334,\n",
       " 0.7388888888888888,\n",
       " 0.7122222222222222,\n",
       " 0.711111111111111,\n",
       " 0.7166666666666666,\n",
       " 0.7255555555555555,\n",
       " 0.708888888888889,\n",
       " 0.6566666666666667,\n",
       " 0.7366666666666667,\n",
       " 0.7244444444444444,\n",
       " 0.7144444444444444,\n",
       " 0.7377777777777778,\n",
       " 0.6777777777777778,\n",
       " 0.7555555555555555,\n",
       " 0.6822222222222224,\n",
       " 0.6755555555555556,\n",
       " 0.6877777777777778,\n",
       " 0.7299999999999999,\n",
       " 0.7244444444444444,\n",
       " 0.6566666666666667,\n",
       " 0.7433333333333334,\n",
       " 0.7144444444444444,\n",
       " 0.6888888888888889,\n",
       " 0.7166666666666667,\n",
       " 0.7211111111111109,\n",
       " 0.7222222222222223,\n",
       " 0.74,\n",
       " 0.79,\n",
       " 0.73,\n",
       " 0.6833333333333333,\n",
       " 0.7111111111111111,\n",
       " 0.7155555555555556,\n",
       " 0.7277777777777779,\n",
       " 0.7499999999999999,\n",
       " 0.7144444444444445,\n",
       " 0.7233333333333334,\n",
       " 0.7055555555555556,\n",
       " 0.6933333333333334,\n",
       " 0.7388888888888889,\n",
       " 0.7888888888888889,\n",
       " 0.6855555555555557,\n",
       " 0.6944444444444444,\n",
       " 0.721111111111111,\n",
       " 0.7088888888888889,\n",
       " 0.7611111111111111,\n",
       " 0.72,\n",
       " 0.6877777777777778,\n",
       " 0.6855555555555555,\n",
       " 0.7411111111111112,\n",
       " 0.7066666666666668,\n",
       " 0.7455555555555555,\n",
       " 0.7066666666666667,\n",
       " 0.7266666666666666,\n",
       " 0.6766666666666666,\n",
       " 0.7177777777777778,\n",
       " 0.7277777777777777,\n",
       " 0.7455555555555555,\n",
       " 0.7455555555555555,\n",
       " 0.7455555555555555,\n",
       " 0.7833333333333333,\n",
       " 0.7233333333333334,\n",
       " 0.7611111111111111,\n",
       " 0.6888888888888889,\n",
       " 0.7377777777777778,\n",
       " 0.7022222222222223,\n",
       " 0.7211111111111111,\n",
       " 0.7222222222222223,\n",
       " 0.7388888888888889,\n",
       " 0.7077777777777776,\n",
       " 0.7266666666666668,\n",
       " 0.7455555555555555,\n",
       " 0.7466666666666668,\n",
       " 0.7200000000000001,\n",
       " 0.7466666666666667,\n",
       " 0.7477777777777778,\n",
       " 0.7344444444444445,\n",
       " 0.76,\n",
       " 0.6933333333333335,\n",
       " 0.76,\n",
       " 0.7100000000000001]"
      ]
     },
     "execution_count": 50,
     "metadata": {},
     "output_type": "execute_result"
    }
   ],
   "source": [
    "train_errors, valid_errrors = exec_k_fold()\n",
    "\n",
    "train_errors"
   ]
  },
  {
   "cell_type": "code",
   "execution_count": 51,
   "metadata": {},
   "outputs": [
    {
     "data": {
      "image/png": "[encoded data removed]",
      "text/plain": [
       "<Figure size 432x288 with 1 Axes>"
      ]
     },
     "metadata": {
      "needs_background": "light"
     },
     "output_type": "display_data"
    }
   ],
   "source": [
    "fig = plt.figure()\n",
    "ax = fig.add_subplot()\n",
    "ax.set_xlabel(\"train acc\")\n",
    "ax.set_ylabel(\"valid acc\")\n",
    "\n",
    "ax.scatter(train_errors, valid_errrors)\n",
    "plt.show()"
   ]
  },
  {
   "cell_type": "code",
   "execution_count": null,
   "metadata": {},
   "outputs": [],
   "source": []
  }
 ],
 "metadata": {
  "kernelspec": {
   "display_name": "Python 3.10.5 ('base')",
   "language": "python",
   "name": "python3"
  },
  "language_info": {
   "codemirror_mode": {
    "name": "ipython",
    "version": 3
   },
   "file_extension": ".py",
   "mimetype": "text/x-python",
   "name": "python",
   "nbconvert_exporter": "python",
   "pygments_lexer": "ipython3",
   "version": "3.10.5"
  },
  "orig_nbformat": 4,
  "vscode": {
   "interpreter": {
    "hash": "d4d1e4263499bec80672ea0156c357c1ee493ec2b1c70f0acce89fc37c4a6abe"
   }
  }
 },
 "nbformat": 4,
 "nbformat_minor": 2
}
