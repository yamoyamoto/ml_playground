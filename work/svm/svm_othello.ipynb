{
 "cells": [
  {
   "cell_type": "code",
   "execution_count": 1,
   "metadata": {},
   "outputs": [],
   "source": [
    "import numpy as np\n",
    "import pandas as pd\n",
    "import matplotlib.pyplot as plt"
   ]
  },
  {
   "cell_type": "code",
   "execution_count": 2,
   "metadata": {},
   "outputs": [],
   "source": [
    "train_data = pd.read_csv(\"data.csv\")"
   ]
  },
  {
   "cell_type": "code",
   "execution_count": 3,
   "metadata": {},
   "outputs": [
    {
     "data": {
      "text/html": [
       "<div>\n",
       "<style scoped>\n",
       "    .dataframe tbody tr th:only-of-type {\n",
       "        vertical-align: middle;\n",
       "    }\n",
       "\n",
       "    .dataframe tbody tr th {\n",
       "        vertical-align: top;\n",
       "    }\n",
       "\n",
       "    .dataframe thead th {\n",
       "        text-align: right;\n",
       "    }\n",
       "</style>\n",
       "<table border=\"1\" class=\"dataframe\">\n",
       "  <thead>\n",
       "    <tr style=\"text-align: right;\">\n",
       "      <th></th>\n",
       "      <th>w_num</th>\n",
       "      <th>b_num</th>\n",
       "      <th>target</th>\n",
       "      <th>color</th>\n",
       "      <th>target_bin</th>\n",
       "    </tr>\n",
       "  </thead>\n",
       "  <tbody>\n",
       "    <tr>\n",
       "      <th>0</th>\n",
       "      <td>30</td>\n",
       "      <td>30</td>\n",
       "      <td>B</td>\n",
       "      <td>red</td>\n",
       "      <td>1</td>\n",
       "    </tr>\n",
       "    <tr>\n",
       "      <th>1</th>\n",
       "      <td>14</td>\n",
       "      <td>30</td>\n",
       "      <td>B</td>\n",
       "      <td>red</td>\n",
       "      <td>1</td>\n",
       "    </tr>\n",
       "    <tr>\n",
       "      <th>2</th>\n",
       "      <td>4</td>\n",
       "      <td>5</td>\n",
       "      <td>W</td>\n",
       "      <td>green</td>\n",
       "      <td>0</td>\n",
       "    </tr>\n",
       "    <tr>\n",
       "      <th>3</th>\n",
       "      <td>43</td>\n",
       "      <td>15</td>\n",
       "      <td>B</td>\n",
       "      <td>red</td>\n",
       "      <td>1</td>\n",
       "    </tr>\n",
       "    <tr>\n",
       "      <th>4</th>\n",
       "      <td>32</td>\n",
       "      <td>26</td>\n",
       "      <td>B</td>\n",
       "      <td>red</td>\n",
       "      <td>1</td>\n",
       "    </tr>\n",
       "    <tr>\n",
       "      <th>...</th>\n",
       "      <td>...</td>\n",
       "      <td>...</td>\n",
       "      <td>...</td>\n",
       "      <td>...</td>\n",
       "      <td>...</td>\n",
       "    </tr>\n",
       "    <tr>\n",
       "      <th>95</th>\n",
       "      <td>5</td>\n",
       "      <td>12</td>\n",
       "      <td>W</td>\n",
       "      <td>green</td>\n",
       "      <td>0</td>\n",
       "    </tr>\n",
       "    <tr>\n",
       "      <th>96</th>\n",
       "      <td>2</td>\n",
       "      <td>2</td>\n",
       "      <td>B</td>\n",
       "      <td>red</td>\n",
       "      <td>1</td>\n",
       "    </tr>\n",
       "    <tr>\n",
       "      <th>97</th>\n",
       "      <td>4</td>\n",
       "      <td>4</td>\n",
       "      <td>B</td>\n",
       "      <td>red</td>\n",
       "      <td>1</td>\n",
       "    </tr>\n",
       "    <tr>\n",
       "      <th>98</th>\n",
       "      <td>43</td>\n",
       "      <td>13</td>\n",
       "      <td>B</td>\n",
       "      <td>red</td>\n",
       "      <td>1</td>\n",
       "    </tr>\n",
       "    <tr>\n",
       "      <th>99</th>\n",
       "      <td>6</td>\n",
       "      <td>11</td>\n",
       "      <td>W</td>\n",
       "      <td>green</td>\n",
       "      <td>0</td>\n",
       "    </tr>\n",
       "  </tbody>\n",
       "</table>\n",
       "<p>100 rows × 5 columns</p>\n",
       "</div>"
      ],
      "text/plain": [
       "    w_num  b_num target  color  target_bin\n",
       "0      30     30      B    red           1\n",
       "1      14     30      B    red           1\n",
       "2       4      5      W  green           0\n",
       "3      43     15      B    red           1\n",
       "4      32     26      B    red           1\n",
       "..    ...    ...    ...    ...         ...\n",
       "95      5     12      W  green           0\n",
       "96      2      2      B    red           1\n",
       "97      4      4      B    red           1\n",
       "98     43     13      B    red           1\n",
       "99      6     11      W  green           0\n",
       "\n",
       "[100 rows x 5 columns]"
      ]
     },
     "execution_count": 3,
     "metadata": {},
     "output_type": "execute_result"
    }
   ],
   "source": [
    "train_data[\"color\"] = train_data[\"target\"].map(lambda x: \"red\" if x==\"B\" else \"green\")\n",
    "\n",
    "# Wが0、Bが1\n",
    "train_data[\"target_bin\"] = train_data[\"target\"].map(lambda x: 0 if x==\"W\" else 1)\n",
    "train_data"
   ]
  },
  {
   "cell_type": "code",
   "execution_count": 4,
   "metadata": {},
   "outputs": [
    {
     "data": {
      "image/png": "[encoded data removed]",
      "text/plain": [
       "<Figure size 432x288 with 1 Axes>"
      ]
     },
     "metadata": {
      "needs_background": "light"
     },
     "output_type": "display_data"
    }
   ],
   "source": [
    "# Visualize\n",
    "fig = plt.figure()\n",
    "ax = fig.add_subplot()\n",
    "ax.scatter(train_data[\"w_num\"], train_data[\"b_num\"], c=train_data[\"color\"])\n",
    "plt.show()"
   ]
  },
  {
   "cell_type": "code",
   "execution_count": 5,
   "metadata": {},
   "outputs": [],
   "source": [
    "def plot_deviced_area(model, data, data_class):\n",
    "    df = pd.merge(\n",
    "        pd.DataFrame(data), pd.DataFrame(data_class), left_index=True, right_index=True\n",
    "    )\n",
    "    class_1_x = df.loc[df[\"target\"] == 0, \"w_num\"]\n",
    "    class_1_y = df.loc[df[\"target\"] == 0, \"b_num\"]\n",
    "    class_2_x = df.loc[df[\"target\"] == 1, \"w_num\"]\n",
    "    class_2_y = df.loc[df[\"target\"] == 1, \"b_num\"]\n",
    "    # print(data)\n",
    "    # print(data_class)\n",
    "    # print(df)\n",
    "\n",
    "    # 決定境界可視化用\n",
    "    grid_line = np.arange(0, 50, 0.05)\n",
    "    X, Y = np.meshgrid(grid_line, grid_line)\n",
    "    Z = model.predict(np.array([X.ravel(), Y.ravel()]).T)\n",
    "    Z = Z.reshape(X.shape)\n",
    "\n",
    "    # ここからグラフ描画\n",
    "    # フォントの種類とサイズを設定する。\n",
    "    plt.rcParams[\"font.size\"] = 14\n",
    "\n",
    "    # 目盛を内側にする。\n",
    "    plt.rcParams[\"xtick.direction\"] = \"in\"\n",
    "    plt.rcParams[\"ytick.direction\"] = \"in\"\n",
    "\n",
    "    ax1 = plt.subplot(111)\n",
    "\n",
    "    # グラフの上下左右に目盛線を付ける。\n",
    "    ax1.yaxis.set_ticks_position(\"both\")\n",
    "    ax1.xaxis.set_ticks_position(\"both\")\n",
    "\n",
    "    # 軸のラベルを設定する。\n",
    "    # ax1.set_xlabel(\"x\")\n",
    "    # ax1.set_ylabel(\"y\")\n",
    "\n",
    "    # データプロットする。\n",
    "    ax1.contourf(X, Y, Z, cmap=\"coolwarm\")\n",
    "    ax1.scatter(class_1_x, class_1_y, label=\"class=1\", edgecolors=\"black\")\n",
    "    ax1.scatter(class_2_x, class_2_y, label=\"class=2\", edgecolors=\"black\")\n",
    "\n",
    "    plt.legend()\n",
    "\n",
    "    # グラフを表示する。\n",
    "    plt.show()\n",
    "    plt.close()"
   ]
  },
  {
   "cell_type": "code",
   "execution_count": 6,
   "metadata": {},
   "outputs": [],
   "source": [
    "from sklearn.svm import SVC, LinearSVC"
   ]
  },
  {
   "cell_type": "code",
   "execution_count": 17,
   "metadata": {},
   "outputs": [
    {
     "name": "stdout",
     "output_type": "stream",
     "text": [
      "[0 0 1 0 0 0 1 1 1 1 1 1 1 1 1 0 1 0 1 1 1 1 1 1 1 0 0 1 0 0 1 1 1 1 1 0 1\n",
      " 0 1 1 1 1 1 0 1 1 1 1 1 1 1 0 0 0 1 1 1 0 1 0 1 1 0 1 1 1 1 1 1 0 0 1 0 1\n",
      " 0 1 0 0 0 0 1 1 1 0 1 0 1 1 1 1 0 1 1 1 1 1 1 1 1 1]\n"
     ]
    },
    {
     "data": {
      "text/plain": [
       "0.62"
      ]
     },
     "execution_count": 17,
     "metadata": {},
     "output_type": "execute_result"
    }
   ],
   "source": [
    "pred_data = pd.read_csv(\"data.csv\")\n",
    "del pred_data[\"target\"]\n",
    "\n",
    "train_data = pd.read_csv(\"data.csv\")\n",
    "train_X = pd.merge(train_data[\"w_num\"], train_data[\"b_num\"], left_index=True, right_index=True)\n",
    "train_Y = train_data[\"target\"].map(lambda x: 0 if x==\"W\" else 1)\n",
    "\n",
    "model = SVC(C=1, kernel=\"sigmoid\")\n",
    "# model = LinearSVC(kernel=\"linear\", C=10, penalty=\"l1\")\n",
    "model.fit(train_X, train_Y.to_numpy())\n",
    "\n",
    "predicted = model.predict(train_X)\n",
    "score = model.score(train_X, train_Y)\n",
    "\n",
    "print(predicted)\n",
    "score"
   ]
  },
  {
   "cell_type": "code",
   "execution_count": 18,
   "metadata": {},
   "outputs": [
    {
     "name": "stderr",
     "output_type": "stream",
     "text": [
      "/opt/conda/lib/python3.10/site-packages/sklearn/base.py:450: UserWarning: X does not have valid feature names, but SVC was fitted with feature names\n",
      "  warnings.warn(\n"
     ]
    },
    {
     "data": {
      "image/png": "[encoded data removed]",
      "text/plain": [
       "<Figure size 432x288 with 1 Axes>"
      ]
     },
     "metadata": {
      "needs_background": "light"
     },
     "output_type": "display_data"
    }
   ],
   "source": [
    "plot_deviced_area(model, train_X, train_Y)"
   ]
  },
  {
   "cell_type": "code",
   "execution_count": 9,
   "metadata": {},
   "outputs": [
    {
     "name": "stdout",
     "output_type": "stream",
     "text": [
      "[2 2]\n"
     ]
    }
   ],
   "source": [
    "# predict example\n",
    "print(model.predict(np.array([[0.5, 0.5], [0.7, 0.7]])))"
   ]
  },
  {
   "cell_type": "code",
   "execution_count": 10,
   "metadata": {},
   "outputs": [
    {
     "data": {
      "text/plain": [
       "SVC(kernel='linear')"
      ]
     },
     "execution_count": 10,
     "metadata": {},
     "output_type": "execute_result"
    }
   ],
   "source": [
    "from imblearn.under_sampling import RandomUnderSampler\n",
    "\n",
    "rs = RandomUnderSampler(random_state=1)\n",
    "under_sampled_data, under_sampled_data_class = rs.fit_resample(data, data_class)\n",
    "\n",
    "under_sampled_model = SVC(kernel=\"linear\")\n",
    "\n",
    "under_sampled_model.fit(under_sampled_data, under_sampled_data_class)"
   ]
  },
  {
   "cell_type": "code",
   "execution_count": 11,
   "metadata": {},
   "outputs": [
    {
     "data": {
      "image/png": "[encoded data removed]",
      "text/plain": [
       "<Figure size 432x288 with 1 Axes>"
      ]
     },
     "metadata": {
      "needs_background": "light"
     },
     "output_type": "display_data"
    }
   ],
   "source": [
    "plot_deviced_area(under_sampled_model, under_sampled_data, under_sampled_data_class)"
   ]
  },
  {
   "cell_type": "code",
   "execution_count": 12,
   "metadata": {},
   "outputs": [
    {
     "data": {
      "text/plain": [
       "SVC(kernel='linear')"
      ]
     },
     "execution_count": 12,
     "metadata": {},
     "output_type": "execute_result"
    }
   ],
   "source": [
    "# over sampling\n",
    "from imblearn.over_sampling import SMOTE\n",
    "\n",
    "sm = SMOTE(sampling_strategy=0.5, random_state=42)\n",
    "over_sampled_data, over_sampled_data_class = sm.fit_resample(data, data_class)\n",
    "\n",
    "over_sampled_model = SVC(kernel=\"linear\")\n",
    "over_sampled_model.fit(over_sampled_data, over_sampled_data_class)"
   ]
  },
  {
   "cell_type": "code",
   "execution_count": 13,
   "metadata": {},
   "outputs": [
    {
     "data": {
      "image/png": "[encoded data removed]",
      "text/plain": [
       "<Figure size 432x288 with 1 Axes>"
      ]
     },
     "metadata": {
      "needs_background": "light"
     },
     "output_type": "display_data"
    }
   ],
   "source": [
    "plot_deviced_area(over_sampled_model, over_sampled_data, over_sampled_data_class)"
   ]
  }
 ],
 "metadata": {
  "interpreter": {
   "hash": "d4d1e4263499bec80672ea0156c357c1ee493ec2b1c70f0acce89fc37c4a6abe"
  },
  "kernelspec": {
   "display_name": "Python 3.9.12 ('base')",
   "language": "python",
   "name": "python3"
  },
  "language_info": {
   "codemirror_mode": {
    "name": "ipython",
    "version": 3
   },
   "file_extension": ".py",
   "mimetype": "text/x-python",
   "name": "python",
   "nbconvert_exporter": "python",
   "pygments_lexer": "ipython3",
   "version": "3.10.5"
  },
  "orig_nbformat": 4
 },
 "nbformat": 4,
 "nbformat_minor": 2
}
