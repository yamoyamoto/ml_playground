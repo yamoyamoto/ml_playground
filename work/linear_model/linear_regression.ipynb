{
 "cells": [
  {
   "cell_type": "code",
   "execution_count": 2,
   "metadata": {},
   "outputs": [],
   "source": [
    "import numpy as np\n",
    "import matplotlib.pyplot as plt\n",
    "import statsmodels.api as sm"
   ]
  },
  {
   "cell_type": "code",
   "execution_count": 3,
   "metadata": {},
   "outputs": [],
   "source": [
    "def generate_sample_data(count: int):\n",
    "  x = np.random.normal(0, 1, count)\n",
    "  y = np.random.normal(0, 1, count)\n",
    "  return x, y\n",
    "\n"
   ]
  },
  {
   "cell_type": "code",
   "execution_count": 4,
   "metadata": {},
   "outputs": [
    {
     "data": {
      "text/plain": [
       "<matplotlib.collections.PathCollection at 0x7f712a7da490>"
      ]
     },
     "execution_count": 4,
     "metadata": {},
     "output_type": "execute_result"
    },
    {
     "data": {
      "image/png": "[encoded data removed]",
      "text/plain": [
       "<Figure size 432x288 with 1 Axes>"
      ]
     },
     "metadata": {
      "needs_background": "light"
     },
     "output_type": "display_data"
    }
   ],
   "source": [
    "sample_1_x, sample_1_y = generate_sample_data(50)\n",
    "plt.scatter(sample_1_x, sample_1_y)"
   ]
  },
  {
   "cell_type": "code",
   "execution_count": 5,
   "metadata": {},
   "outputs": [
    {
     "data": {
      "text/plain": [
       "<matplotlib.collections.PathCollection at 0x7f7122669a90>"
      ]
     },
     "execution_count": 5,
     "metadata": {},
     "output_type": "execute_result"
    },
    {
     "data": {
      "image/png": "[encoded data removed]",
      "text/plain": [
       "<Figure size 432x288 with 1 Axes>"
      ]
     },
     "metadata": {
      "needs_background": "light"
     },
     "output_type": "display_data"
    }
   ],
   "source": [
    "sample_2_x, sample_2_y = generate_sample_data(10000)\n",
    "plt.scatter(sample_2_x, sample_2_y)"
   ]
  },
  {
   "cell_type": "code",
   "execution_count": 6,
   "metadata": {},
   "outputs": [],
   "source": [
    "def fit_and_summary(x, y):\n",
    "  X = sm.add_constant(x)\n",
    "  model = sm.OLS(y, X)\n",
    "  results = model.fit()\n",
    "  print(results.summary())\n",
    "\n",
    "def fit_and_get_p(x, y):\n",
    "  X = sm.add_constant(x)\n",
    "  model = sm.OLS(y, X)\n",
    "  results = model.fit()\n",
    "  return results.pvalues"
   ]
  },
  {
   "cell_type": "code",
   "execution_count": 7,
   "metadata": {},
   "outputs": [
    {
     "name": "stdout",
     "output_type": "stream",
     "text": [
      "                            OLS Regression Results                            \n",
      "==============================================================================\n",
      "Dep. Variable:                      y   R-squared:                       0.004\n",
      "Model:                            OLS   Adj. R-squared:                 -0.016\n",
      "Method:                 Least Squares   F-statistic:                    0.2122\n",
      "Date:                Tue, 24 May 2022   Prob (F-statistic):              0.647\n",
      "Time:                        04:55:09   Log-Likelihood:                -78.896\n",
      "No. Observations:                  50   AIC:                             161.8\n",
      "Df Residuals:                      48   BIC:                             165.6\n",
      "Df Model:                           1                                         \n",
      "Covariance Type:            nonrobust                                         \n",
      "==============================================================================\n",
      "                 coef    std err          t      P>|t|      [0.025      0.975]\n",
      "------------------------------------------------------------------------------\n",
      "const          0.0840      0.170      0.494      0.624      -0.258       0.426\n",
      "x1             0.0720      0.156      0.461      0.647      -0.242       0.386\n",
      "==============================================================================\n",
      "Omnibus:                        4.492   Durbin-Watson:                   1.712\n",
      "Prob(Omnibus):                  0.106   Jarque-Bera (JB):                5.061\n",
      "Skew:                           0.097   Prob(JB):                       0.0796\n",
      "Kurtosis:                       4.546   Cond. No.                         1.14\n",
      "==============================================================================\n",
      "\n",
      "Notes:\n",
      "[1] Standard Errors assume that the covariance matrix of the errors is correctly specified.\n"
     ]
    }
   ],
   "source": [
    "sample_1_x, sample_1_y = generate_sample_data(50)\n",
    "fit_and_summary(sample_1_x, sample_1_y)"
   ]
  },
  {
   "cell_type": "code",
   "execution_count": 8,
   "metadata": {},
   "outputs": [
    {
     "name": "stdout",
     "output_type": "stream",
     "text": [
      "                            OLS Regression Results                            \n",
      "==============================================================================\n",
      "Dep. Variable:                      y   R-squared:                       0.000\n",
      "Model:                            OLS   Adj. R-squared:                 -0.000\n",
      "Method:                 Least Squares   F-statistic:                  0.004452\n",
      "Date:                Tue, 24 May 2022   Prob (F-statistic):              0.947\n",
      "Time:                        04:55:10   Log-Likelihood:                -14185.\n",
      "No. Observations:               10000   AIC:                         2.837e+04\n",
      "Df Residuals:                    9998   BIC:                         2.839e+04\n",
      "Df Model:                           1                                         \n",
      "Covariance Type:            nonrobust                                         \n",
      "==============================================================================\n",
      "                 coef    std err          t      P>|t|      [0.025      0.975]\n",
      "------------------------------------------------------------------------------\n",
      "const         -0.0041      0.010     -0.410      0.682      -0.024       0.016\n",
      "x1            -0.0007      0.010     -0.067      0.947      -0.020       0.019\n",
      "==============================================================================\n",
      "Omnibus:                        0.505   Durbin-Watson:                   2.000\n",
      "Prob(Omnibus):                  0.777   Jarque-Bera (JB):                0.529\n",
      "Skew:                          -0.015   Prob(JB):                        0.768\n",
      "Kurtosis:                       2.980   Cond. No.                         1.02\n",
      "==============================================================================\n",
      "\n",
      "Notes:\n",
      "[1] Standard Errors assume that the covariance matrix of the errors is correctly specified.\n"
     ]
    }
   ],
   "source": [
    "sample_2_x, sample_2_y = generate_sample_data(10000)\n",
    "fit_and_summary(sample_2_x, sample_2_y)"
   ]
  },
  {
   "cell_type": "code",
   "execution_count": 9,
   "metadata": {},
   "outputs": [],
   "source": [
    "sample_1_p_values = []\n",
    "for i in range(1000):\n",
    "  sample_1_x, sample_1_y = generate_sample_data(50)\n",
    "  p_value = fit_and_get_p(sample_1_x, sample_1_y)\n",
    "  # print(p_value)\n",
    "  sample_1_p_values.append(p_value)\n",
    "\n",
    "sample_2_p_values = []\n",
    "for i in range(1000):\n",
    "  sample_2_x, sample_2_y = generate_sample_data(10000)\n",
    "  p_value = fit_and_get_p(sample_2_x, sample_2_y)\n",
    "  sample_2_p_values.append(p_value)"
   ]
  },
  {
   "cell_type": "code",
   "execution_count": 10,
   "metadata": {},
   "outputs": [
    {
     "data": {
      "image/png": "[encoded data removed]",
      "text/plain": [
       "<Figure size 432x288 with 1 Axes>"
      ]
     },
     "metadata": {
      "needs_background": "light"
     },
     "output_type": "display_data"
    }
   ],
   "source": [
    "sample_1_p_values = np.array(sample_1_p_values)\n",
    "plt.hist(sample_1_p_values[:, 0], bins=50)\n",
    "plt.show()"
   ]
  },
  {
   "cell_type": "code",
   "execution_count": 11,
   "metadata": {},
   "outputs": [
    {
     "data": {
      "image/png": "[encoded data removed]",
      "text/plain": [
       "<Figure size 432x288 with 1 Axes>"
      ]
     },
     "metadata": {
      "needs_background": "light"
     },
     "output_type": "display_data"
    }
   ],
   "source": [
    "plt.hist(sample_1_p_values[:, 1], bins=50)\n",
    "plt.show()"
   ]
  },
  {
   "cell_type": "code",
   "execution_count": 256,
   "metadata": {},
   "outputs": [
    {
     "data": {
      "image/png": "[encoded data removed]",
      "text/plain": [
       "<Figure size 432x288 with 1 Axes>"
      ]
     },
     "metadata": {
      "needs_background": "light"
     },
     "output_type": "display_data"
    }
   ],
   "source": [
    "sample_2_p_values = np.array(sample_2_p_values)\n",
    "plt.hist(sample_2_p_values[:, 0], bins=50)\n",
    "plt.show()"
   ]
  },
  {
   "cell_type": "code",
   "execution_count": 257,
   "metadata": {},
   "outputs": [
    {
     "data": {
      "image/png": "[encoded data removed]",
      "text/plain": [
       "<Figure size 432x288 with 1 Axes>"
      ]
     },
     "metadata": {
      "needs_background": "light"
     },
     "output_type": "display_data"
    }
   ],
   "source": [
    "plt.hist(sample_2_p_values[:, 1], bins=50)\n",
    "plt.show()"
   ]
  }
 ],
 "metadata": {
  "interpreter": {
   "hash": "d4d1e4263499bec80672ea0156c357c1ee493ec2b1c70f0acce89fc37c4a6abe"
  },
  "kernelspec": {
   "display_name": "Python 3.9.12 ('base')",
   "language": "python",
   "name": "python3"
  },
  "language_info": {
   "codemirror_mode": {
    "name": "ipython",
    "version": 3
   },
   "file_extension": ".py",
   "mimetype": "text/x-python",
   "name": "python",
   "nbconvert_exporter": "python",
   "pygments_lexer": "ipython3",
   "version": "3.9.12"
  },
  "orig_nbformat": 4
 },
 "nbformat": 4,
 "nbformat_minor": 2
}
