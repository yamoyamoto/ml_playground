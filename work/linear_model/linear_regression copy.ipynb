{
 "cells": [
  {
   "cell_type": "code",
   "execution_count": 18,
   "metadata": {},
   "outputs": [],
   "source": [
    "import numpy as np\n",
    "import matplotlib.pyplot as plt\n",
    "import statsmodels.api as sm"
   ]
  },
  {
   "cell_type": "code",
   "execution_count": 32,
   "metadata": {},
   "outputs": [],
   "source": [
    "def generate_sample_data(count: int):\n",
    "  x = np.random.normal(loc=0, scale=1, size=count)\n",
    "  y = np.random.normal(loc=0, scale=1, size=count)\n",
    "  return x, y\n",
    "\n",
    "def get_axis_for_scatter(x, y):\n",
    "  fig = plt.figure()\n",
    "  ax = fig.add_subplot()\n",
    "  ax.set_xlim(-5, 5)\n",
    "  ax.set_ylim(-5, 5)\n",
    "  ax.spines[\"right\"].set_color(\"none\")\n",
    "  ax.spines[\"top\"].set_color(\"none\")\n",
    "  ax.spines['left'].set_position('zero')\n",
    "  ax.spines['bottom'].set_position('zero')\n",
    "  ax.scatter(x, y, 10)\n",
    "  return ax"
   ]
  },
  {
   "cell_type": "code",
   "execution_count": 34,
   "metadata": {},
   "outputs": [
    {
     "data": {
      "image/png": "[encoded data removed]",
      "text/plain": [
       "<Figure size 432x288 with 1 Axes>"
      ]
     },
     "metadata": {
      "needs_background": "light"
     },
     "output_type": "display_data"
    }
   ],
   "source": [
    "sample_1_x, sample_1_y = generate_sample_data(50)\n",
    "\n",
    "ax_1 = get_axis_for_scatter(sample_1_x, sample_1_y)\n",
    "plt.show()"
   ]
  },
  {
   "cell_type": "code",
   "execution_count": 48,
   "metadata": {},
   "outputs": [
    {
     "data": {
      "image/png": "[encoded data removed]",
      "text/plain": [
       "<Figure size 432x288 with 1 Axes>"
      ]
     },
     "metadata": {
      "needs_background": "light"
     },
     "output_type": "display_data"
    }
   ],
   "source": [
    "sample_2_x, sample_2_y = generate_sample_data(10000)\n",
    "ax_2 = get_axis_for_scatter(sample_2_x, sample_2_y)\n",
    "plt.show()"
   ]
  },
  {
   "cell_type": "code",
   "execution_count": 44,
   "metadata": {},
   "outputs": [],
   "source": [
    "def fit_and_summary(x, y):\n",
    "  X = sm.add_constant(x)\n",
    "  model = sm.OLS(y, X)\n",
    "  results = model.fit()\n",
    "  print(results.summary())\n",
    "\n",
    "def fit_and_get_p(x, y):\n",
    "  X = sm.add_constant(x)\n",
    "  model = sm.OLS(y, X)\n",
    "  results = model.fit()\n",
    "  return results.pvalues"
   ]
  },
  {
   "cell_type": "code",
   "execution_count": 39,
   "metadata": {},
   "outputs": [
    {
     "name": "stdout",
     "output_type": "stream",
     "text": [
      "                            OLS Regression Results                            \n",
      "==============================================================================\n",
      "Dep. Variable:                      y   R-squared:                       0.020\n",
      "Model:                            OLS   Adj. R-squared:                 -0.000\n",
      "Method:                 Least Squares   F-statistic:                    0.9826\n",
      "Date:                Wed, 25 May 2022   Prob (F-statistic):              0.327\n",
      "Time:                        23:18:31   Log-Likelihood:                -68.457\n",
      "No. Observations:                  50   AIC:                             140.9\n",
      "Df Residuals:                      48   BIC:                             144.7\n",
      "Df Model:                           1                                         \n",
      "Covariance Type:            nonrobust                                         \n",
      "==============================================================================\n",
      "                 coef    std err          t      P>|t|      [0.025      0.975]\n",
      "------------------------------------------------------------------------------\n",
      "const         -0.0488      0.141     -0.347      0.730      -0.332       0.234\n",
      "x1             0.1549      0.156      0.991      0.327      -0.159       0.469\n",
      "==============================================================================\n",
      "Omnibus:                        0.187   Durbin-Watson:                   2.362\n",
      "Prob(Omnibus):                  0.911   Jarque-Bera (JB):                0.021\n",
      "Skew:                           0.050   Prob(JB):                        0.989\n",
      "Kurtosis:                       2.988   Cond. No.                         1.28\n",
      "==============================================================================\n",
      "\n",
      "Notes:\n",
      "[1] Standard Errors assume that the covariance matrix of the errors is correctly specified.\n"
     ]
    }
   ],
   "source": [
    "fit_and_summary(sample_1_x, sample_1_y)"
   ]
  },
  {
   "cell_type": "code",
   "execution_count": 47,
   "metadata": {},
   "outputs": [
    {
     "name": "stdout",
     "output_type": "stream",
     "text": [
      "                            OLS Regression Results                            \n",
      "==============================================================================\n",
      "Dep. Variable:                      y   R-squared:                       0.000\n",
      "Model:                            OLS   Adj. R-squared:                 -0.000\n",
      "Method:                 Least Squares   F-statistic:                    0.2049\n",
      "Date:                Wed, 25 May 2022   Prob (F-statistic):              0.651\n",
      "Time:                        23:37:46   Log-Likelihood:            -1.4182e+06\n",
      "No. Observations:             1000000   AIC:                         2.836e+06\n",
      "Df Residuals:                  999998   BIC:                         2.836e+06\n",
      "Df Model:                           1                                         \n",
      "Covariance Type:            nonrobust                                         \n",
      "==============================================================================\n",
      "                 coef    std err          t      P>|t|      [0.025      0.975]\n",
      "------------------------------------------------------------------------------\n",
      "const          0.0012      0.001      1.182      0.237      -0.001       0.003\n",
      "x1            -0.0005      0.001     -0.453      0.651      -0.002       0.002\n",
      "==============================================================================\n",
      "Omnibus:                        2.445   Durbin-Watson:                   1.997\n",
      "Prob(Omnibus):                  0.295   Jarque-Bera (JB):                2.445\n",
      "Skew:                           0.002   Prob(JB):                        0.294\n",
      "Kurtosis:                       2.994   Cond. No.                         1.00\n",
      "==============================================================================\n",
      "\n",
      "Notes:\n",
      "[1] Standard Errors assume that the covariance matrix of the errors is correctly specified.\n"
     ]
    }
   ],
   "source": [
    "fit_and_summary(sample_2_x, sample_2_y)"
   ]
  }
 ],
 "metadata": {
  "interpreter": {
   "hash": "d4d1e4263499bec80672ea0156c357c1ee493ec2b1c70f0acce89fc37c4a6abe"
  },
  "kernelspec": {
   "display_name": "Python 3.9.12 ('base')",
   "language": "python",
   "name": "python3"
  },
  "language_info": {
   "codemirror_mode": {
    "name": "ipython",
    "version": 3
   },
   "file_extension": ".py",
   "mimetype": "text/x-python",
   "name": "python",
   "nbconvert_exporter": "python",
   "pygments_lexer": "ipython3",
   "version": "3.9.12"
  },
  "orig_nbformat": 4
 },
 "nbformat": 4,
 "nbformat_minor": 2
}
